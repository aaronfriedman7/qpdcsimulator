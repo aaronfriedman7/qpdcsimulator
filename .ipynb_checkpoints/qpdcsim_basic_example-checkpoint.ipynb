{
 "cells": [
  {
   "cell_type": "code",
   "execution_count": 85,
   "metadata": {},
   "outputs": [
    {
     "name": "stdout",
     "output_type": "stream",
     "text": [
      "The autoreload extension is already loaded. To reload it, use:\n",
      "  %reload_ext autoreload\n"
     ]
    }
   ],
   "source": [
    "# imports\n",
    "import numpy as np # generic math functions\n",
    "import numpy.linalg as la\n",
    "#import scipy.linalg as linalg\n",
    "import matplotlib.pyplot as plt\n",
    "plt.rcParams[\"figure.figsize\"] = (10,8)\n",
    "\n",
    "%load_ext autoreload\n",
    "%autoreload 2\n",
    "import qpdcsim as q"
   ]
  },
  {
   "cell_type": "code",
   "execution_count": 86,
   "metadata": {},
   "outputs": [],
   "source": [
    "d=2 # physical Hilbert space dimension (2 for spin-1/2)\n",
    "N=4 # level of rational approximation, frequencies = [1, F_{N+1}/F_N]\n",
    "L=9 # horizontal length of truncated strip of frequency lattice\n",
    "\n",
    "sim = q.FiboSim(d,N,L) # setup simulator object\n",
    "\n",
    "#sim.plot_freq_lattice()"
   ]
  },
  {
   "cell_type": "code",
   "execution_count": 91,
   "metadata": {},
   "outputs": [],
   "source": [
    "# define the drive Hamiltonian interactions\n",
    "pulse1 = q.Interaction({'type':'Gaussian', \n",
    "                     'operator':q.PAULI['X'], # \n",
    "                     'parameters': {'freq':0, # frequency axis 0 or 1\n",
    "                                    'width':1.0, # stdev of Gaussian\n",
    "                                    'weight':np.pi/2, # integrated weight\n",
    "                                    'cutoff':5} # number of Fourier components (+/-) to truncate to\n",
    "                     }\n",
    "                    )\n",
    "pulse2 = q.Interaction({'type':'Gaussian',\n",
    "                     'operator':q.PAULI['Z'],\n",
    "                     'parameters': {'freq':1,\n",
    "                                    'width':1.0,\n",
    "                                    'weight':np.pi/2,\n",
    "                                    'cutoff':5}\n",
    "                     }\n",
    "                    )\n",
    "# add the interactions to the simulator object (as list)\n",
    "sim.interactions = [pulse1,pulse2]\n",
    "\n",
    "# sweep over \"flux\" through compactified direction on Frequency lattice\n",
    "# and compute quasi-energy spectrum\n",
    "N_sweep = 21 # number of points to sweep\n",
    "fluxes = np.linspace(-np.pi,np.pi,N_sweep) # fluxes to sweep over\n",
    "\n",
    "Es =np.zeros([N_sweep,sim.Hsize]) # quasi-energy spectrum\n",
    "for j in range(N_sweep):    \n",
    "    Es[j,:],psi=sim.compute_spectrum(flux=fluxes[j])"
   ]
  },
  {
   "cell_type": "code",
   "execution_count": null,
   "metadata": {},
   "outputs": [],
   "source": [
    "# visualize interactions\n",
    "s1 = np.floor(sim.size/2) # pick a site in the middle of the strip\n",
    "sim.plot_interactions(s1)"
   ]
  },
  {
   "cell_type": "code",
   "execution_count": 94,
   "metadata": {},
   "outputs": [
    {
     "data": {
      "image/png": "[encoded data removed]",
      "text/plain": [
       "<Figure size 720x576 with 1 Axes>"
      ]
     },
     "metadata": {
      "needs_background": "light"
     },
     "output_type": "display_data"
    }
   ],
   "source": [
    "# simulate the quasi-energy spectrum\n",
    "plt.figure()\n",
    "ylim = np.pi/(q.Fibonacci(N+1)*q.Fibonacci(N))\n",
    "plt.plot(fluxes,Es)\n",
    "plt.ylim(-2*ylim,2*ylim)\n",
    "plt.title('Width = %s' % q.Fibonacci(N) + ', L=%s'%L)\n",
    "plt.show()"
   ]
  },
  {
   "cell_type": "code",
   "execution_count": null,
   "metadata": {},
   "outputs": [],
   "source": []
  }
 ],
 "metadata": {
  "kernelspec": {
   "display_name": "Python 3",
   "language": "python",
   "name": "python3"
  },
  "language_info": {
   "codemirror_mode": {
    "name": "ipython",
    "version": 3
   },
   "file_extension": ".py",
   "mimetype": "text/x-python",
   "name": "python",
   "nbconvert_exporter": "python",
   "pygments_lexer": "ipython3",
   "version": "3.7.3"
  }
 },
 "nbformat": 4,
 "nbformat_minor": 4
}
